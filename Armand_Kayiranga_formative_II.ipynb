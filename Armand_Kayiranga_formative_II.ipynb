{
  "cells": [
    {
      "cell_type": "markdown",
      "metadata": {
        "id": "view-in-github",
        "colab_type": "text"
      },
      "source": [
        "<a href=\"https://colab.research.google.com/github/aimee-annabelle/Peer_Group_10_Water_Quality_Model/blob/Armand/Armand_Kayiranga_formative_II.ipynb\" target=\"_parent\"><img src=\"https://colab.research.google.com/assets/colab-badge.svg\" alt=\"Open In Colab\"/></a>"
      ]
    },
    {
      "cell_type": "markdown",
      "id": "a6ca9801",
      "metadata": {
        "id": "a6ca9801"
      },
      "source": [
        "<a href=\"https://colab.research.google.com/github/yourrepo/Armand_Kayiranga_Model/blob/main/Armand_Kayiranga_formative_II.ipynb\" target=\"_parent\"><img src=\"https://colab.research.google.com/assets/colab-badge.svg\" alt=\"Open In Colab\"/></a>"
      ]
    },
    {
      "cell_type": "markdown",
      "id": "6af4a581",
      "metadata": {
        "id": "6af4a581"
      },
      "source": [
        "# Excercise - Creating our own custom Model"
      ]
    },
    {
      "cell_type": "markdown",
      "id": "06800e5b",
      "metadata": {
        "id": "06800e5b"
      },
      "source": [
        "This is a notebook that provides a quick overview of how to create your own custom model. You will be creating a simple model.\n",
        "You will be utilizing Keras and Tensorflow"
      ]
    },
    {
      "cell_type": "markdown",
      "id": "99d66876",
      "metadata": {
        "id": "99d66876"
      },
      "source": [
        "## Water Quality Dataset\n",
        "\n",
        "This dataset contains water quality measurements and assessments related to potability, which is the suitability of water for human consumption. The dataset's primary objective is to provide insights into water quality parameters and assist in determining whether the water is potable or not. Each row in the dataset represents a water sample with specific attributes, and the \"Potability\" column indicates whether the water is suitable for consumption.\n",
        "\n",
        "https://www.kaggle.com/datasets/uom190346a/water-quality-and-potability?select=water_potability.csv"
      ]
    },
    {
      "cell_type": "code",
      "execution_count": null,
      "id": "d9c97481",
      "metadata": {
        "id": "d9c97481"
      },
      "outputs": [],
      "source": [
        "import matplotlib.pyplot as plt\n",
        "import warnings\n",
        "warnings.filterwarnings('ignore')"
      ]
    },
    {
      "cell_type": "code",
      "execution_count": null,
      "id": "235faf78",
      "metadata": {
        "id": "235faf78"
      },
      "outputs": [],
      "source": [
        "#LOAD THE DATA\n",
        "import pandas as pd\n",
        "df = pd.read_csv(\"https://raw.githubusercontent.com/aimee-annabelle/Peer_Group_10_Water_Quality_Model/main/water_potability.csv\")\n",
        "print(df.info())\n",
        "print(df.head())"
      ]
    },
    {
      "cell_type": "code",
      "execution_count": null,
      "id": "14e82ced",
      "metadata": {
        "id": "14e82ced"
      },
      "outputs": [],
      "source": [
        "df.isnull().sum()"
      ]
    },
    {
      "cell_type": "code",
      "execution_count": null,
      "id": "04192240",
      "metadata": {
        "id": "04192240"
      },
      "outputs": [],
      "source": [
        "missing_percentage = df.isnull().mean() * 100\n",
        "print(missing_percentage)"
      ]
    },
    {
      "cell_type": "code",
      "execution_count": null,
      "id": "da6cce5c",
      "metadata": {
        "id": "da6cce5c"
      },
      "outputs": [],
      "source": [
        "df.fillna(df.median(), inplace=True)\n",
        "df.isnull().sum()"
      ]
    },
    {
      "cell_type": "code",
      "execution_count": null,
      "id": "d38ea7df",
      "metadata": {
        "id": "d38ea7df"
      },
      "outputs": [],
      "source": [
        "df.describe()"
      ]
    },
    {
      "cell_type": "markdown",
      "id": "7a1e1b4e",
      "metadata": {
        "id": "7a1e1b4e"
      },
      "source": [
        "Plot the Data Appropriately"
      ]
    },
    {
      "cell_type": "code",
      "execution_count": null,
      "id": "147a9349",
      "metadata": {
        "id": "147a9349"
      },
      "outputs": [],
      "source": [
        "from sklearn.model_selection import train_test_split\n",
        "from sklearn.preprocessing import StandardScaler\n",
        "X = df.drop(\"Potability\", axis=1)\n",
        "y = df[\"Potability\"]\n",
        "scaler = StandardScaler()\n",
        "X_scaled = scaler.fit_transform(X)\n",
        "trainX, testX, trainy, testy = train_test_split(X_scaled, y, test_size=0.3, random_state=42)"
      ]
    },
    {
      "cell_type": "markdown",
      "id": "04564b22",
      "metadata": {
        "id": "04564b22"
      },
      "source": [
        "### Model Definition by Armand Kayiranga"
      ]
    },
    {
      "cell_type": "code",
      "execution_count": null,
      "id": "143eb999",
      "metadata": {
        "id": "143eb999"
      },
      "outputs": [],
      "source": [
        "def model_armand_kayiranga():\n",
        "    from tensorflow.keras.models import Sequential\n",
        "    from tensorflow.keras.layers import Dense\n",
        "    from tensorflow.keras import regularizers\n",
        "    from tensorflow.keras.optimizers import Adam\n",
        "\n",
        "    model = Sequential([\n",
        "        Dense(32, activation='relu', input_shape=(X.shape[1],),\n",
        "              kernel_regularizer=regularizers.l1(0.001)),\n",
        "        Dense(16, activation='relu',\n",
        "              kernel_regularizer=regularizers.l1(0.001)),\n",
        "        Dense(1, activation='sigmoid')\n",
        "    ])\n",
        "\n",
        "    model.compile(optimizer=Adam(learning_rate=0.001),\n",
        "                  loss='binary_crossentropy',\n",
        "                  metrics=['accuracy'])\n",
        "    return model"
      ]
    },
    {
      "cell_type": "code",
      "execution_count": null,
      "id": "c5e34341",
      "metadata": {
        "id": "c5e34341"
      },
      "outputs": [],
      "source": [
        "from tensorflow.keras.callbacks import EarlyStopping\n",
        "es = EarlyStopping(monitor='val_loss', patience=10)\n",
        "model = model_armand_kayiranga()\n",
        "history = model.fit(trainX, trainy,\n",
        "                    validation_data=(testX, testy),\n",
        "                    epochs=100,\n",
        "                    batch_size=32,\n",
        "                    verbose=1,\n",
        "                    callbacks=[es])"
      ]
    },
    {
      "cell_type": "code",
      "execution_count": null,
      "id": "b2f07ce2",
      "metadata": {
        "id": "b2f07ce2"
      },
      "outputs": [],
      "source": [
        "_, train_acc = model.evaluate(trainX, trainy, verbose=0)\n",
        "_, test_acc = model.evaluate(testX, testy, verbose=0)\n",
        "print('Train Accuracy: %.3f, Test Accuracy: %.3f' % (train_acc, test_acc))"
      ]
    },
    {
      "cell_type": "code",
      "execution_count": null,
      "id": "7f7309bb",
      "metadata": {
        "id": "7f7309bb"
      },
      "outputs": [],
      "source": [
        "plt.plot(history.history['loss'], label='train loss')\n",
        "plt.plot(history.history['val_loss'], label='val loss')\n",
        "plt.legend()\n",
        "plt.title(\"Training and Validation Loss\")\n",
        "plt.xlabel(\"Epoch\")\n",
        "plt.ylabel(\"Loss\")\n",
        "plt.grid(True)\n",
        "plt.show()"
      ]
    }
  ],
  "metadata": {
    "colab": {
      "provenance": [],
      "include_colab_link": true
    }
  },
  "nbformat": 4,
  "nbformat_minor": 5
}